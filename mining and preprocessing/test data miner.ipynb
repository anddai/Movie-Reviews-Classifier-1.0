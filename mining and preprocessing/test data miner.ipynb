{
 "cells": [
  {
   "cell_type": "code",
   "execution_count": 10,
   "metadata": {},
   "outputs": [],
   "source": [
    "# web scraping libraries\n",
    "import requests\n",
    "from bs4 import BeautifulSoup\n",
    "\n",
    "from selenium import webdriver\n",
    "from selenium.webdriver.common.by import By\n",
    "from selenium.webdriver.common.keys import Keys\n",
    "from selenium.webdriver.common.action_chains import ActionChains\n",
    "from selenium.webdriver.support.ui import WebDriverWait\n",
    "from selenium.webdriver.support import expected_conditions as EC\n",
    "\n",
    "# text preprocessing libraries \n",
    "import string\n",
    "import nltk\n",
    "from nltk.stem import WordNetLemmatizer\n",
    "from nltk.tokenize import word_tokenize\n",
    "from nltk.corpus import stopwords\n",
    "\n",
    "# other\n",
    "import pandas as pd\n",
    "import os"
   ]
  },
  {
   "cell_type": "code",
   "execution_count": 11,
   "metadata": {},
   "outputs": [],
   "source": [
    "# where the high-level magic happens\n",
    "def url_scraper_main(url, movie):\n",
    "    soup = load_html(url)\n",
    "    reviews_df = soup_extractor(soup, movie)\n",
    "    return reviews_df\n"
   ]
  },
  {
   "cell_type": "code",
   "execution_count": 12,
   "metadata": {},
   "outputs": [],
   "source": [
    "\n",
    "def load_html(url):\n",
    "    driver = webdriver.Chrome()\n",
    "    driver.get(url)\n",
    "\n",
    "    num_reviews = 30\n",
    "    num_reviews_per_load = 20\n",
    "    try:\n",
    "        while True:\n",
    "            #print(\"iterated\")\n",
    "            # Wait until the \"Load More\" button is present\n",
    "            load_more_button = WebDriverWait(driver, 10).until(\n",
    "                EC.presence_of_element_located((By.XPATH, '//*[@id=\"reviews\"]/div[2]/rt-button'))\n",
    "            )\n",
    "            # Click the \"Load More\" button\n",
    "            load_more_button.click()\n",
    "            # Optionally, wait for new content to load\n",
    "            WebDriverWait(driver, 10).until(\n",
    "                EC.presence_of_element_located((By.XPATH, f'//*[@id=\"reviews\"]/div[1]/div[{num_reviews}]'))\n",
    "            )\n",
    "            num_reviews += num_reviews_per_load\n",
    "    except Exception as e:\n",
    "        print(\"Finished Loading\")\n",
    "        #print(\"No more 'Load More' buttons to click or an error occurred:\", e)\n",
    "\n",
    "    response = driver.page_source\n",
    "    soup = BeautifulSoup(response, 'html.parser')\n",
    "\n",
    "    driver.quit()\n",
    "    return soup"
   ]
  },
  {
   "cell_type": "code",
   "execution_count": 13,
   "metadata": {},
   "outputs": [],
   "source": [
    "# Extract sentiment and review \n",
    "\n",
    "def soup_extractor(soup, movie):\n",
    "    reviews = soup.find_all('div', class_='review-row')\n",
    "    reviews_list = []\n",
    "\n",
    "    for review in reviews:\n",
    "        text = review.find('p', class_='review-text')\n",
    "        text = text.text.strip()\n",
    "        sentiment = review.find('score-icon-critics')\n",
    "        sentiment = sentiment.get('sentiment')\n",
    "        reviews_list.append((movie, sentiment, text))\n",
    "\n",
    "    reviews_df = pd.DataFrame(reviews_list, columns=[\"movie\",\"sentiment\",\"review_text\"])\n",
    "\n",
    "    return reviews_df\n"
   ]
  },
  {
   "cell_type": "code",
   "execution_count": 14,
   "metadata": {},
   "outputs": [],
   "source": [
    "# need to clean up the words, then remove the most frequent words encountered/associated with a movie?\n",
    "# what is the minimum percentage?"
   ]
  },
  {
   "cell_type": "code",
   "execution_count": 15,
   "metadata": {},
   "outputs": [],
   "source": [
    "def clean(sample_text):\n",
    "    sample_text = sample_text.lower()\n",
    "    sample_text = sample_text.translate(str.maketrans('','', string.punctuation)) \n",
    "    # Consider using regex to address back to back punctuation, like day-to-day\n",
    "    \n",
    "    sample_text = word_tokenize(sample_text)\n",
    "    lemmatizer = WordNetLemmatizer()\n",
    "    sample_text = [lemmatizer.lemmatize(word) for word in sample_text]\n",
    "\n",
    "    #consider changing this later, to take care of bi grams, where words such as 'not' may be important\n",
    "    stop_words = set(stopwords.words('english'))\n",
    "    sample_text = [word for word in sample_text if word not in stop_words]\n",
    "\n",
    "    return sample_text\n",
    "\n"
   ]
  },
  {
   "cell_type": "code",
   "execution_count": 16,
   "metadata": {},
   "outputs": [
    {
     "name": "stdout",
     "output_type": "stream",
     "text": [
      "Finished Loading\n",
      "Finished Loading\n",
      "Finished Loading\n",
      "Finished Loading\n",
      "Finished Loading\n"
     ]
    }
   ],
   "source": [
    "movie_info = [(\"aquaman_2018\", \"https://www.rottentomatoes.com/m/aquaman_2018/reviews\"),\n",
    "              (\"morbius\", \"https://www.rottentomatoes.com/m/morbius/reviews\"),\n",
    "              (\"harry_potter_and_the_sorcerers_stone\", \"https://www.rottentomatoes.com/m/harry_potter_and_the_sorcerers_stone/reviews\"),\n",
    "              (\"captain_marvel\", \"https://www.rottentomatoes.com/m/captain_marvel/reviews\"),\n",
    "              (\"fifty_shades_of_grey\", \"https://www.rottentomatoes.com/m/fifty_shades_of_grey/reviews\")]\n",
    "tests_df = pd.DataFrame(columns=[\"movie\",\"sentiment\",\"review\"])\n",
    "\n",
    "for row in movie_info:\n",
    "    movie = row[0]\n",
    "    url = row[1]\n",
    "    test_df = url_scraper_main(url, movie)\n",
    "    tests_df = pd.concat([tests_df, test_df], axis=0)"
   ]
  },
  {
   "cell_type": "code",
   "execution_count": 18,
   "metadata": {},
   "outputs": [
    {
     "name": "stdout",
     "output_type": "stream",
     "text": [
      "['cleaned', 'raw', 'test']\n"
     ]
    }
   ],
   "source": [
    "path = os.path.join(os.path.normpath(os.getcwd() + os.sep + os.pardir) + \"/data/\")\n",
    "\n",
    "print(os.listdir(path))\n",
    "\n",
    "tests_df = tests_df.drop(columns=['review'])\n",
    "tests_df.to_csv(path + 'test/test.csv', header=True)"
   ]
  },
  {
   "cell_type": "code",
   "execution_count": 19,
   "metadata": {},
   "outputs": [
    {
     "data": {
      "text/html": [
       "<div>\n",
       "<style scoped>\n",
       "    .dataframe tbody tr th:only-of-type {\n",
       "        vertical-align: middle;\n",
       "    }\n",
       "\n",
       "    .dataframe tbody tr th {\n",
       "        vertical-align: top;\n",
       "    }\n",
       "\n",
       "    .dataframe thead th {\n",
       "        text-align: right;\n",
       "    }\n",
       "</style>\n",
       "<table border=\"1\" class=\"dataframe\">\n",
       "  <thead>\n",
       "    <tr style=\"text-align: right;\">\n",
       "      <th></th>\n",
       "      <th>movie</th>\n",
       "      <th>sentiment</th>\n",
       "      <th>review_text</th>\n",
       "    </tr>\n",
       "  </thead>\n",
       "  <tbody>\n",
       "    <tr>\n",
       "      <th>0</th>\n",
       "      <td>aquaman_2018</td>\n",
       "      <td>POSITIVE</td>\n",
       "      <td>It’s a comic-fantasy that gets a passing grade...</td>\n",
       "    </tr>\n",
       "    <tr>\n",
       "      <th>1</th>\n",
       "      <td>aquaman_2018</td>\n",
       "      <td>POSITIVE</td>\n",
       "      <td>Aquaman has some truly original imagery and a ...</td>\n",
       "    </tr>\n",
       "    <tr>\n",
       "      <th>2</th>\n",
       "      <td>aquaman_2018</td>\n",
       "      <td>POSITIVE</td>\n",
       "      <td>Aquaman is the fun action-packed, adventure mo...</td>\n",
       "    </tr>\n",
       "    <tr>\n",
       "      <th>3</th>\n",
       "      <td>aquaman_2018</td>\n",
       "      <td>POSITIVE</td>\n",
       "      <td>The production and attention to detail here is...</td>\n",
       "    </tr>\n",
       "    <tr>\n",
       "      <th>4</th>\n",
       "      <td>aquaman_2018</td>\n",
       "      <td>POSITIVE</td>\n",
       "      <td>“Aquaman” is an oddly satisfying blast. It’s n...</td>\n",
       "    </tr>\n",
       "    <tr>\n",
       "      <th>...</th>\n",
       "      <td>...</td>\n",
       "      <td>...</td>\n",
       "      <td>...</td>\n",
       "    </tr>\n",
       "    <tr>\n",
       "      <th>275</th>\n",
       "      <td>fifty_shades_of_grey</td>\n",
       "      <td>POSITIVE</td>\n",
       "      <td>Glossy, well cast, and a consistent hoot until...</td>\n",
       "    </tr>\n",
       "    <tr>\n",
       "      <th>276</th>\n",
       "      <td>fifty_shades_of_grey</td>\n",
       "      <td>POSITIVE</td>\n",
       "      <td>Accept this genuinely sexy, somewhat silly, re...</td>\n",
       "    </tr>\n",
       "    <tr>\n",
       "      <th>277</th>\n",
       "      <td>fifty_shades_of_grey</td>\n",
       "      <td>POSITIVE</td>\n",
       "      <td>Fifty Shades of Grey is a sex-positive but hop...</td>\n",
       "    </tr>\n",
       "    <tr>\n",
       "      <th>278</th>\n",
       "      <td>fifty_shades_of_grey</td>\n",
       "      <td>POSITIVE</td>\n",
       "      <td>Aiming to please, the filmmakers submit withou...</td>\n",
       "    </tr>\n",
       "    <tr>\n",
       "      <th>279</th>\n",
       "      <td>fifty_shades_of_grey</td>\n",
       "      <td>POSITIVE</td>\n",
       "      <td>Johnson is a true find: She's so committed, sh...</td>\n",
       "    </tr>\n",
       "  </tbody>\n",
       "</table>\n",
       "<p>1734 rows × 3 columns</p>\n",
       "</div>"
      ],
      "text/plain": [
       "                    movie sentiment  \\\n",
       "0            aquaman_2018  POSITIVE   \n",
       "1            aquaman_2018  POSITIVE   \n",
       "2            aquaman_2018  POSITIVE   \n",
       "3            aquaman_2018  POSITIVE   \n",
       "4            aquaman_2018  POSITIVE   \n",
       "..                    ...       ...   \n",
       "275  fifty_shades_of_grey  POSITIVE   \n",
       "276  fifty_shades_of_grey  POSITIVE   \n",
       "277  fifty_shades_of_grey  POSITIVE   \n",
       "278  fifty_shades_of_grey  POSITIVE   \n",
       "279  fifty_shades_of_grey  POSITIVE   \n",
       "\n",
       "                                           review_text  \n",
       "0    It’s a comic-fantasy that gets a passing grade...  \n",
       "1    Aquaman has some truly original imagery and a ...  \n",
       "2    Aquaman is the fun action-packed, adventure mo...  \n",
       "3    The production and attention to detail here is...  \n",
       "4    “Aquaman” is an oddly satisfying blast. It’s n...  \n",
       "..                                                 ...  \n",
       "275  Glossy, well cast, and a consistent hoot until...  \n",
       "276  Accept this genuinely sexy, somewhat silly, re...  \n",
       "277  Fifty Shades of Grey is a sex-positive but hop...  \n",
       "278  Aiming to please, the filmmakers submit withou...  \n",
       "279  Johnson is a true find: She's so committed, sh...  \n",
       "\n",
       "[1734 rows x 3 columns]"
      ]
     },
     "execution_count": 19,
     "metadata": {},
     "output_type": "execute_result"
    }
   ],
   "source": [
    "tests_df"
   ]
  }
 ],
 "metadata": {
  "kernelspec": {
   "display_name": "Python 3",
   "language": "python",
   "name": "python3"
  },
  "language_info": {
   "codemirror_mode": {
    "name": "ipython",
    "version": 3
   },
   "file_extension": ".py",
   "mimetype": "text/x-python",
   "name": "python",
   "nbconvert_exporter": "python",
   "pygments_lexer": "ipython3",
   "version": "3.12.0"
  }
 },
 "nbformat": 4,
 "nbformat_minor": 2
}
