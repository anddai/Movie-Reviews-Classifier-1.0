{
 "cells": [
  {
   "cell_type": "code",
   "execution_count": 2,
   "metadata": {},
   "outputs": [],
   "source": [
    "#import all libraries\n",
    "import requests\n",
    "from bs4 import BeautifulSoup\n",
    "import pandas as pd\n",
    "import os"
   ]
  },
  {
   "cell_type": "code",
   "execution_count": 3,
   "metadata": {},
   "outputs": [],
   "source": [
    "def find_reviews(link):\n",
    "    response = requests.get(link)\n",
    "    if response.status_code != 200:\n",
    "        return 0\n",
    "    soup = BeautifulSoup(response.content, 'html.parser')\n",
    "    target_class = soup.find('section', class_='critics-reviews')\n",
    "    target_link = target_class.find('rt-link')\n",
    "    clean_link = target_link.get('href')\n",
    "    return \"https://www.rottentomatoes.com\" + clean_link"
   ]
  },
  {
   "cell_type": "code",
   "execution_count": 4,
   "metadata": {},
   "outputs": [
    {
     "name": "stdout",
     "output_type": "stream",
     "text": [
      "Request successful\n"
     ]
    }
   ],
   "source": [
    "url = \"https://editorial.rottentomatoes.com/guide/best-movies-of-all-time/\"\n",
    "\n",
    "response = requests.get(url)\n",
    "\n",
    "if response.status_code == 200:\n",
    "    print(\"Request successful\")\n",
    "else:\n",
    "    print(\"Failed to retrieve the webpage\")"
   ]
  },
  {
   "cell_type": "code",
   "execution_count": 5,
   "metadata": {},
   "outputs": [
    {
     "name": "stdout",
     "output_type": "stream",
     "text": [
      "Number of movies found: 299\n",
      "L.A. Confidential              https://www.rottentomatoes.com/m/la_confidenti...\n",
      "The Godfather                  https://www.rottentomatoes.com/m/the_godfather...\n",
      "Casablanca                     https://www.rottentomatoes.com/m/1003707-casab...\n",
      "Seven Samurai                  https://www.rottentomatoes.com/m/seven_samurai...\n",
      "Parasite                       https://www.rottentomatoes.com/m/parasite_2019...\n",
      "                                                     ...                        \n",
      "La Dolce Vita                  https://www.rottentomatoes.com/m/la_dolce_vita...\n",
      "The Killing                     https://www.rottentomatoes.com/m/killing/reviews\n",
      "The Rules of the Game          https://www.rottentomatoes.com/m/the_rules_of_...\n",
      "Eyes Without a Face            https://www.rottentomatoes.com/m/eyes_without_...\n",
      "The Cabinet of Dr. Caligari    https://www.rottentomatoes.com/m/the_cabinet_o...\n",
      "Length: 299, dtype: object\n"
     ]
    }
   ],
   "source": [
    "soup = BeautifulSoup(response.content, 'html.parser')\n",
    "\n",
    "# Extract all reviews\n",
    "movies = soup.find_all('a', class_='title')\n",
    "movies_series = pd.Series()\n",
    "\n",
    "for movie in movies:\n",
    "    title = movie.find(string=True)\n",
    "    link = str(movie.get('href'))\n",
    "    link = find_reviews(link)\n",
    "    if link:\n",
    "        movies_series[title] = link\n",
    "\n",
    "print(f'Number of movies found: {len(movies_series)}')\n",
    "print(movies_series)"
   ]
  },
  {
   "cell_type": "code",
   "execution_count": 6,
   "metadata": {},
   "outputs": [
    {
     "name": "stdout",
     "output_type": "stream",
     "text": [
      "Request successful\n",
      "Number of movies found: 399\n",
      "L.A. Confidential                                https://www.rottentomatoes.com/m/la_confidenti...\n",
      "The Godfather                                    https://www.rottentomatoes.com/m/the_godfather...\n",
      "Casablanca                                       https://www.rottentomatoes.com/m/1003707-casab...\n",
      "Seven Samurai                                    https://www.rottentomatoes.com/m/seven_samurai...\n",
      "Parasite                                         https://www.rottentomatoes.com/m/parasite_2019...\n",
      "                                                                       ...                        \n",
      "In the Name of the King: A Dungeon Siege Tale    https://www.rottentomatoes.com/m/in-the-name-o...\n",
      "The Cold Light of Day                            https://www.rottentomatoes.com/m/the_cold_ligh...\n",
      "A Low Down Dirty Shame                           https://www.rottentomatoes.com/m/low_down_dirt...\n",
      "Just Getting Started                             https://www.rottentomatoes.com/m/just_getting_...\n",
      "The Last Airbender                               https://www.rottentomatoes.com/m/last_airbende...\n",
      "Length: 399, dtype: object\n"
     ]
    }
   ],
   "source": [
    "url = \"https://editorial.rottentomatoes.com/guide/worst-movies-of-all-time/\"\n",
    "\n",
    "response = requests.get(url)\n",
    "\n",
    "if response.status_code == 200:\n",
    "    print(\"Request successful\")\n",
    "else:\n",
    "    print(\"Failed to retrieve the webpage\")\n",
    "\n",
    "soup = BeautifulSoup(response.content, 'html.parser')\n",
    "\n",
    "# Extract all reviews\n",
    "movies = soup.find_all('div', class_='article_movie_title')\n",
    "\n",
    "for movie in movies:\n",
    "    movie = movie.find('a')\n",
    "    title = movie.find(string=True)\n",
    "    link = str(movie.get('href'))\n",
    "    link = find_reviews(link)\n",
    "    if link:\n",
    "        movies_series[title] = link\n",
    "\n",
    "print(f'Number of movies found: {len(movies_series)}')\n",
    "print(movies_series)\n"
   ]
  },
  {
   "cell_type": "code",
   "execution_count": 7,
   "metadata": {},
   "outputs": [],
   "source": [
    "path = os.path.join(os.path.normpath(os.getcwd() + os.sep + os.pardir) + \"/data/raw/\")\n",
    "\n",
    "movies_df = pd.DataFrame({'title':movies_series.index, 'link':movies_series.values})\n",
    "\n",
    "movies_df.to_csv(path + 'movies.csv', index=True, header=True)"
   ]
  }
 ],
 "metadata": {
  "kernelspec": {
   "display_name": "Python 3",
   "language": "python",
   "name": "python3"
  },
  "language_info": {
   "codemirror_mode": {
    "name": "ipython",
    "version": 3
   },
   "file_extension": ".py",
   "mimetype": "text/x-python",
   "name": "python",
   "nbconvert_exporter": "python",
   "pygments_lexer": "ipython3",
   "version": "3.12.0"
  }
 },
 "nbformat": 4,
 "nbformat_minor": 2
}
